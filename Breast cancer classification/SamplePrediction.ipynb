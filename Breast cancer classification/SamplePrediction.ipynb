{
 "cells": [
  {
   "cell_type": "code",
   "execution_count": 2,
   "id": "703753c8-7e05-4f58-b8c1-c9677e96b27b",
   "metadata": {},
   "outputs": [],
   "source": [
    "import joblib\n",
    "import numpy as np"
   ]
  },
  {
   "cell_type": "code",
   "execution_count": 4,
   "id": "b62fd31c-3fbe-451b-8de5-89e7eca2726e",
   "metadata": {},
   "outputs": [],
   "source": [
    "model = joblib.load('breast_cancer_model.pkl')"
   ]
  },
  {
   "cell_type": "code",
   "execution_count": 8,
   "id": "c18e6cf0-c8af-469d-9900-2a062813cc3e",
   "metadata": {},
   "outputs": [
    {
     "name": "stdout",
     "output_type": "stream",
     "text": [
      "Prediction: Benign\n"
     ]
    },
    {
     "name": "stderr",
     "output_type": "stream",
     "text": [
      "C:\\Users\\Sreyaanil\\anaconda3\\Lib\\site-packages\\sklearn\\base.py:493: UserWarning: X does not have valid feature names, but RandomForestClassifier was fitted with feature names\n",
      "  warnings.warn(\n"
     ]
    }
   ],
   "source": [
    "sample = np.array([14.0, 20.0, 90.0, 600.0, 0.1, 0.08, 0.05, 0.03, 0.2, 0.07,\n",
    "          0.3, 1.5, 2.5, 20.0, 0.005, 0.01, 0.02, 0.01, 0.02, 0.004,\n",
    "          16.0, 25.0, 110.0, 800.0, 0.14, 0.1, 0.08, 0.05, 0.25, 0.09]).reshape(1, -1)\n",
    "prediction = model.predict(sample)\n",
    "prediction_label = \"Benign\" if prediction[0]==1 else \"Malignant\"\n",
    "print(\"Prediction:\", prediction_label)"
   ]
  }
 ],
 "metadata": {
  "kernelspec": {
   "display_name": "Python [conda env:base] *",
   "language": "python",
   "name": "conda-base-py"
  },
  "language_info": {
   "codemirror_mode": {
    "name": "ipython",
    "version": 3
   },
   "file_extension": ".py",
   "mimetype": "text/x-python",
   "name": "python",
   "nbconvert_exporter": "python",
   "pygments_lexer": "ipython3",
   "version": "3.12.7"
  }
 },
 "nbformat": 4,
 "nbformat_minor": 5
}
